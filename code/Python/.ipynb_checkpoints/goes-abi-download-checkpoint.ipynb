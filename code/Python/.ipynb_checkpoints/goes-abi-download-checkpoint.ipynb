{
 "cells": [
  {
   "cell_type": "code",
   "execution_count": 16,
   "id": "dfa7c283-4a25-4aac-8793-dee16c397ecf",
   "metadata": {},
   "outputs": [
    {
     "name": "stdout",
     "output_type": "stream",
     "text": [
      "Imports successfull ...\n"
     ]
    }
   ],
   "source": [
    "import geopandas as gpd\n",
    "import numpy as np\n",
    "import os,sys,glob\n",
    "import s3fs\n",
    "import netCDF4\n",
    "import warnings\n",
    "warnings.filterwarnings('ignore')\n",
    "print(\"Imports successfull ...\")"
   ]
  },
  {
   "cell_type": "code",
   "execution_count": 27,
   "id": "139d00f1-0b30-45fe-8d5e-0502e9e72db1",
   "metadata": {},
   "outputs": [
    {
     "name": "stdout",
     "output_type": "stream",
     "text": [
      "C:\\Users\\mccoo\\OneDrive\\mcook\\marshall-fire\\code\\python\\noaa-goes16\n",
      "['noaa-goes16/ABI-L2-FDCC/2017', 'noaa-goes16/ABI-L2-FDCC/2018', 'noaa-goes16/ABI-L2-FDCC/2019', 'noaa-goes16/ABI-L2-FDCC/2020', 'noaa-goes16/ABI-L2-FDCC/2021', 'noaa-goes16/ABI-L2-FDCC/2022']\n",
      "['noaa-goes16/ABI-L2-FDCC/2021/364/00', 'noaa-goes16/ABI-L2-FDCC/2021/364/01', 'noaa-goes16/ABI-L2-FDCC/2021/364/02', 'noaa-goes16/ABI-L2-FDCC/2021/364/03', 'noaa-goes16/ABI-L2-FDCC/2021/364/04', 'noaa-goes16/ABI-L2-FDCC/2021/364/05', 'noaa-goes16/ABI-L2-FDCC/2021/364/06', 'noaa-goes16/ABI-L2-FDCC/2021/364/07', 'noaa-goes16/ABI-L2-FDCC/2021/364/08', 'noaa-goes16/ABI-L2-FDCC/2021/364/09', 'noaa-goes16/ABI-L2-FDCC/2021/364/10', 'noaa-goes16/ABI-L2-FDCC/2021/364/11', 'noaa-goes16/ABI-L2-FDCC/2021/364/12', 'noaa-goes16/ABI-L2-FDCC/2021/364/13', 'noaa-goes16/ABI-L2-FDCC/2021/364/14', 'noaa-goes16/ABI-L2-FDCC/2021/364/15', 'noaa-goes16/ABI-L2-FDCC/2021/364/16', 'noaa-goes16/ABI-L2-FDCC/2021/364/17', 'noaa-goes16/ABI-L2-FDCC/2021/364/18', 'noaa-goes16/ABI-L2-FDCC/2021/364/19', 'noaa-goes16/ABI-L2-FDCC/2021/364/20', 'noaa-goes16/ABI-L2-FDCC/2021/364/21', 'noaa-goes16/ABI-L2-FDCC/2021/364/22', 'noaa-goes16/ABI-L2-FDCC/2021/364/23']\n"
     ]
    }
   ],
   "source": [
    "# Use the anonymous credentials to access public data\n",
    "fs = s3fs.S3FileSystem(anon=True)\n",
    "# List out GOES, retrive data\n",
    "goes_list = ['goes16', 'goes17']\n",
    "print(os.getcwd())\n",
    "# Check one file out\n",
    "print(fs.ls('s3://noaa-{}/ABI-L2-FDCC/'.format(g)))\n",
    "## List out the directories for Dec. 30th, 2021\n",
    "dirs = fs.ls('s3://noaa-goes16/ABI-L2-FDCC/2021/364/')\n",
    "print(dirs)\n",
    "for d in dirs:\n",
    "    files = np.array(fs.ls(d))\n",
    "    for f in files:\n",
    "        fs.get(f, f.split('/')[-1])"
   ]
  },
  {
   "cell_type": "code",
   "execution_count": 31,
   "id": "35e6331a-1215-4d5b-a32c-2ba4be8c7dcd",
   "metadata": {},
   "outputs": [
    {
     "name": "stdout",
     "output_type": "stream",
     "text": [
      "C:\\Users\\mccoo\\OneDrive\\mcook\\marshall-fire\\code\\python\\noaa-goes16\n"
     ]
    },
    {
     "data": {
      "text/plain": [
       "288"
      ]
     },
     "execution_count": 31,
     "metadata": {},
     "output_type": "execute_result"
    }
   ],
   "source": [
    "## Read in files\n",
    "print(os.getcwd())\n",
    "ncs = glob.glob(\"*.nc\")\n",
    "len(ncs)"
   ]
  }
 ],
 "metadata": {
  "kernelspec": {
   "display_name": "geos",
   "language": "python",
   "name": "geos"
  },
  "language_info": {
   "codemirror_mode": {
    "name": "ipython",
    "version": 3
   },
   "file_extension": ".py",
   "mimetype": "text/x-python",
   "name": "python",
   "nbconvert_exporter": "python",
   "pygments_lexer": "ipython3",
   "version": "3.10.2"
  }
 },
 "nbformat": 4,
 "nbformat_minor": 5
}
